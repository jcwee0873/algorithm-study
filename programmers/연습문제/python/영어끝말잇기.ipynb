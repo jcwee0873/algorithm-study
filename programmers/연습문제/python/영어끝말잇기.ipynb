{
 "cells": [
  {
   "cell_type": "code",
   "execution_count": 14,
   "id": "7029c870-5a58-4232-b7e5-eb514931f740",
   "metadata": {},
   "outputs": [],
   "source": [
    "def solution(n, words):\n",
    "    word_list = set([words[0]])\n",
    "    fail = None\n",
    "\n",
    "    for i in range(1, len(words)):\n",
    "        print(words[i], word_list)\n",
    "        if (words[i][0] != words[i-1][-1]) or (words[i] in word_list):\n",
    "            fail = [i%n + 1, i // n + 1]\n",
    "            break\n",
    "        word_list.add(words[i])            \n",
    "    if fail:\n",
    "        return fail\n",
    "    return [0, 0]"
   ]
  },
  {
   "cell_type": "code",
   "execution_count": 15,
   "id": "41b5a3ea-1133-4b5f-a112-c622dbe93f49",
   "metadata": {},
   "outputs": [
    {
     "name": "stdout",
     "output_type": "stream",
     "text": [
      "kick {'tank'}\n",
      "know {'kick', 'tank'}\n",
      "wheel {'kick', 'know', 'tank'}\n",
      "land {'wheel', 'kick', 'know', 'tank'}\n",
      "dream {'land', 'know', 'wheel', 'kick', 'tank'}\n",
      "mother {'dream', 'land', 'know', 'wheel', 'kick', 'tank'}\n",
      "robot {'dream', 'land', 'mother', 'know', 'wheel', 'kick', 'tank'}\n",
      "tank {'robot', 'dream', 'land', 'mother', 'know', 'wheel', 'kick', 'tank'}\n"
     ]
    },
    {
     "data": {
      "text/plain": [
       "[3, 3]"
      ]
     },
     "execution_count": 15,
     "metadata": {},
     "output_type": "execute_result"
    }
   ],
   "source": [
    "solution(3, [\"tank\", \"kick\", \"know\", \"wheel\", \"land\", \"dream\", \"mother\", \"robot\", \"tank\"]\t)"
   ]
  },
  {
   "cell_type": "code",
   "execution_count": null,
   "id": "1bb5437e-7fc3-48f2-b1ff-8e29fdebb4a8",
   "metadata": {},
   "outputs": [],
   "source": []
  },
  {
   "cell_type": "code",
   "execution_count": null,
   "id": "e43b35f5-db9f-410f-8c8a-bd86066f0820",
   "metadata": {},
   "outputs": [],
   "source": []
  }
 ],
 "metadata": {
  "kernelspec": {
   "display_name": "Python 3 (ipykernel)",
   "language": "python",
   "name": "python3"
  },
  "language_info": {
   "codemirror_mode": {
    "name": "ipython",
    "version": 3
   },
   "file_extension": ".py",
   "mimetype": "text/x-python",
   "name": "python",
   "nbconvert_exporter": "python",
   "pygments_lexer": "ipython3",
   "version": "3.11.7"
  }
 },
 "nbformat": 4,
 "nbformat_minor": 5
}
