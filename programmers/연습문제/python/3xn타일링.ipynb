{
 "cells": [
  {
   "cell_type": "code",
   "execution_count": 102,
   "id": "289b2e68-e17d-4d8e-be1e-fb3e539bf617",
   "metadata": {},
   "outputs": [],
   "source": [
    "def solution(n):\n",
    "    if n%2 == 1:\n",
    "        return 0\n",
    "        \n",
    "    n = n // 2\n",
    "    box = [3, 11]\n",
    "    \n",
    "    if n < 2:\n",
    "        return box[n-1]\n",
    "\n",
    "    for i in range(2, n):\n",
    "        box.append((3*box[i-1] + sum([2 * j for j in box[:i-1]]) + 2) % 1000000007)\n",
    "\n",
    "    return box[-1]"
   ]
  },
  {
   "cell_type": "code",
   "execution_count": 103,
   "id": "85eb1e51-0f65-44a8-ae75-7f98fa85fa0b",
   "metadata": {},
   "outputs": [
    {
     "data": {
      "text/plain": [
       "153"
      ]
     },
     "execution_count": 103,
     "metadata": {},
     "output_type": "execute_result"
    }
   ],
   "source": [
    "solution(8)"
   ]
  },
  {
   "cell_type": "code",
   "execution_count": null,
   "id": "f5bf501e-7545-4aec-80c5-179630de3725",
   "metadata": {},
   "outputs": [],
   "source": []
  }
 ],
 "metadata": {
  "kernelspec": {
   "display_name": "Python 3 (ipykernel)",
   "language": "python",
   "name": "python3"
  },
  "language_info": {
   "codemirror_mode": {
    "name": "ipython",
    "version": 3
   },
   "file_extension": ".py",
   "mimetype": "text/x-python",
   "name": "python",
   "nbconvert_exporter": "python",
   "pygments_lexer": "ipython3",
   "version": "3.11.7"
  }
 },
 "nbformat": 4,
 "nbformat_minor": 5
}
