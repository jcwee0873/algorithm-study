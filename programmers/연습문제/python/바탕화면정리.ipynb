{
 "cells": [
  {
   "cell_type": "code",
   "execution_count": 95,
   "id": "20e2eae5-e053-4e4f-84df-d632a9af344b",
   "metadata": {},
   "outputs": [],
   "source": [
    "def strip_wallpaper(wallpaper, reverse=False):\n",
    "    direct = -1 if reverse else 1\n",
    "    for i, row in enumerate(wallpaper[::direct]):\n",
    "        if '#' in row:          \n",
    "            if reverse:\n",
    "                return len(wallpaper) - i, wallpaper\n",
    "            return i, wallpaper\n",
    "\n",
    "    return wallpaper\n",
    "\n",
    "def transpose(wallpaper):\n",
    "    return [''.join(list(r)) for r in zip(*wallpaper)]\n",
    "    \n",
    "def solution(wallpaper):\n",
    "    answer = []\n",
    "    lux, wallpaper_strip = strip_wallpaper(wallpaper)\n",
    "    rdx, wallpaper_strip = strip_wallpaper(wallpaper, reverse=True)\n",
    "\n",
    "    wallpaper_strip = transpose(wallpaper_strip)\n",
    "    luy, wallpaper_strip = strip_wallpaper(wallpaper_strip)\n",
    "    rdy, wallpaper_strip = strip_wallpaper(wallpaper_strip, reverse=True)\n",
    "   \n",
    "    return [lux, luy, rdx, rdy]"
   ]
  },
  {
   "cell_type": "code",
   "execution_count": 96,
   "id": "f4252ca3-7cbb-47d6-b827-e457b596b86c",
   "metadata": {},
   "outputs": [
    {
     "data": {
      "text/plain": [
       "[0, 1, 3, 4]"
      ]
     },
     "execution_count": 96,
     "metadata": {},
     "output_type": "execute_result"
    }
   ],
   "source": [
    "t = solution([\".##..\", \"..#..\", \"...#.\"])\n",
    "t"
   ]
  },
  {
   "cell_type": "code",
   "execution_count": 78,
   "id": "7f7294b0-148a-467e-b65e-5cdfa10079c0",
   "metadata": {},
   "outputs": [
    {
     "data": {
      "text/plain": [
       "['.#...', '..#..', '...#.']"
      ]
     },
     "execution_count": 78,
     "metadata": {},
     "output_type": "execute_result"
    }
   ],
   "source": [
    "[\".##..\", \n",
    " \"..#..\", \n",
    " \"...#.\"][:3-0]"
   ]
  },
  {
   "cell_type": "code",
   "execution_count": 33,
   "id": "2a116485-149d-4f1a-a20e-9d67355393d7",
   "metadata": {},
   "outputs": [
    {
     "name": "stdout",
     "output_type": "stream",
     "text": [
      "['.#...', '..#..', '...#.']\n"
     ]
    }
   ],
   "source": [
    "for i, row in enumerate(w):\n",
    "    if '#' in row:\n",
    "        print(w[i:])\n",
    "        break"
   ]
  },
  {
   "cell_type": "code",
   "execution_count": null,
   "id": "f76b4ee8-3710-4dbb-8c66-9f93b724db89",
   "metadata": {},
   "outputs": [],
   "source": []
  }
 ],
 "metadata": {
  "kernelspec": {
   "display_name": "Python 3 (ipykernel)",
   "language": "python",
   "name": "python3"
  },
  "language_info": {
   "codemirror_mode": {
    "name": "ipython",
    "version": 3
   },
   "file_extension": ".py",
   "mimetype": "text/x-python",
   "name": "python",
   "nbconvert_exporter": "python",
   "pygments_lexer": "ipython3",
   "version": "3.11.7"
  }
 },
 "nbformat": 4,
 "nbformat_minor": 5
}
