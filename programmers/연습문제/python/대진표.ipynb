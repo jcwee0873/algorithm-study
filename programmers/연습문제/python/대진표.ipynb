{
 "cells": [
  {
   "cell_type": "code",
   "execution_count": 26,
   "id": "90d34de3-0d8a-45d2-a370-afdc38bc3926",
   "metadata": {},
   "outputs": [],
   "source": [
    "def solution(n, a, b):\n",
    "    match = 1\n",
    "    while n > 0:\n",
    "        if abs(a-b) == 1:\n",
    "            if max(a, b) % 2 == 0:\n",
    "                break\n",
    "\n",
    "        match += 1\n",
    "\n",
    "        a = (a+1) // 2\n",
    "        b = (b+1) // 2\n",
    "\n",
    "        n = n // 2\n",
    "    return match"
   ]
  },
  {
   "cell_type": "code",
   "execution_count": 27,
   "id": "ebc18b0e-1a03-4eb4-ada7-1f036a675315",
   "metadata": {},
   "outputs": [
    {
     "data": {
      "text/plain": [
       "3"
      ]
     },
     "execution_count": 27,
     "metadata": {},
     "output_type": "execute_result"
    }
   ],
   "source": [
    "solution(8, 1, 8)"
   ]
  },
  {
   "cell_type": "code",
   "execution_count": null,
   "id": "5e71d71f-ccf0-425b-9c47-38a633b38b57",
   "metadata": {},
   "outputs": [],
   "source": []
  }
 ],
 "metadata": {
  "kernelspec": {
   "display_name": "Python 3 (ipykernel)",
   "language": "python",
   "name": "python3"
  },
  "language_info": {
   "codemirror_mode": {
    "name": "ipython",
    "version": 3
   },
   "file_extension": ".py",
   "mimetype": "text/x-python",
   "name": "python",
   "nbconvert_exporter": "python",
   "pygments_lexer": "ipython3",
   "version": "3.11.7"
  }
 },
 "nbformat": 4,
 "nbformat_minor": 5
}
