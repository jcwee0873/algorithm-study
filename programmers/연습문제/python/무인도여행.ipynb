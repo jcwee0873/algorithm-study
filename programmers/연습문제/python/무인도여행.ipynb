{
 "cells": [
  {
   "cell_type": "code",
   "execution_count": 68,
   "id": "a19ce1ed-1002-4500-97c0-59cce23b24a3",
   "metadata": {},
   "outputs": [],
   "source": [
    "class Explore:\n",
    "    def __init__(self, maps):\n",
    "        self.maps = maps\n",
    "        self.queue = []\n",
    "        self.seen = [[0] * len(maps[0]) for _ in range(len(maps))]\n",
    "        self.answer = []\n",
    "\n",
    "    def look(self, x, y):\n",
    "        if (x > len(self.maps) - 1) or (x < 0):\n",
    "            return 'X'\n",
    "        if (y > len(self.maps[0]) - 1) or (y < 0):\n",
    "            return 'X'\n",
    "        if self.seen[x][y] == 1:\n",
    "            return 'X'\n",
    "        return self.maps[x][y]\n",
    "\n",
    "    def exploring(self, x, y):\n",
    "        score = 0\n",
    "        if self.maps[x][y] != 'X':\n",
    "            self.queue.append((x, y))\n",
    "            \n",
    "            while len(self.queue) > 0:\n",
    "                x, y = self.queue.pop(0)\n",
    "                score += int(self.maps[x][y])\n",
    "                self.seen[x][y] = 1\n",
    "\n",
    "                for i, j in [(1, 0), (-1, 0), (0, 1), (0, -1)]:\n",
    "                    x_i, y_j = x+i, y+j\n",
    "                    if self.look(x_i, y_j) != 'X':\n",
    "                        self.queue.append((x_i, y_j))\n",
    "                        self.seen[x_i][y_j] = 1\n",
    "                        \n",
    "            self.answer.append(score)\n",
    "            \n",
    "            \n",
    "def solution(maps):\n",
    "    answer = []\n",
    "\n",
    "    explore = Explore(maps)\n",
    "\n",
    "    for i in range(len(maps)):\n",
    "        for j in range(len(maps[0])):\n",
    "            if explore.seen[i][j] == 0:\n",
    "                explore.exploring(i, j)\n",
    "\n",
    "    if len(explore.answer) == 0:\n",
    "        return [-1]\n",
    "        \n",
    "    return sorted(explore.answer)"
   ]
  },
  {
   "cell_type": "code",
   "execution_count": 69,
   "id": "a3aecac4-0888-4757-812c-da7241b9ba35",
   "metadata": {},
   "outputs": [
    {
     "data": {
      "text/plain": [
       "[1, 1, 27]"
      ]
     },
     "execution_count": 69,
     "metadata": {},
     "output_type": "execute_result"
    }
   ],
   "source": [
    "solution([\"X591X\", \"X1X5X\", \"X231X\", \"1XXX1\"])"
   ]
  },
  {
   "cell_type": "code",
   "execution_count": 70,
   "id": "cabbe816-bb5d-4592-9e4e-7b59549d9a10",
   "metadata": {},
   "outputs": [
    {
     "data": {
      "text/plain": [
       "[-1]"
      ]
     },
     "execution_count": 70,
     "metadata": {},
     "output_type": "execute_result"
    }
   ],
   "source": [
    "solution([\"XXX\",\"XXX\",\"XXX\"])"
   ]
  }
 ],
 "metadata": {
  "kernelspec": {
   "display_name": "Python 3 (ipykernel)",
   "language": "python",
   "name": "python3"
  },
  "language_info": {
   "codemirror_mode": {
    "name": "ipython",
    "version": 3
   },
   "file_extension": ".py",
   "mimetype": "text/x-python",
   "name": "python",
   "nbconvert_exporter": "python",
   "pygments_lexer": "ipython3",
   "version": "3.11.7"
  }
 },
 "nbformat": 4,
 "nbformat_minor": 5
}
